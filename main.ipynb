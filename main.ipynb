{
 "cells": [
  {
   "cell_type": "code",
   "execution_count": null,
   "metadata": {
    "collapsed": true
   },
   "outputs": [],
   "source": [
    "import cv"
   ]
  },
  {
   "cell_type": "code",
   "execution_count": null,
   "outputs": [],
   "source": [
    "def cut_to_relevant_time(path:str)->None:\n",
    "    \"\"\"\n",
    "    this function takes raw video file and cuts it to\n",
    "    relevant frames of chess game and writes\n",
    "    :param path:\n",
    "    :return:\n",
    "    \"\"\"\n",
    "    pass\n",
    "\n",
    "def keep_frames_for_analysis(path:str)->None:\n",
    "    \"\"\"\n",
    "    this function takes the video file and keeps images with 81\n",
    "    intersections of lines\n",
    "    :param path:\n",
    "    :return:\n",
    "    \"\"\"\n",
    "    pass\n",
    "\n",
    "def analize_first_frame (image)->dict:\n",
    "    \"\"\"\n",
    "    this function takes a single frame and separates it into squares,\n",
    "    returns a dictionary of pieces by location\n",
    "    :param image:\n",
    "    :return:\n",
    "    \"\"\"\n",
    "    pass\n",
    "\n",
    "def find_81_point(image)->dict:\n",
    "    \"\"\"\n",
    "\n",
    "    :param image:\n",
    "    :return:{'a1':((x,y),(x,y),(x,y),(x,y)),'h8':((x,y),(x,y),(x,y),(x,y))}\n",
    "    \"\"\"\n",
    "    pass"
   ],
   "metadata": {
    "collapsed": false,
    "pycharm": {
     "name": "#%%\n"
    }
   }
  }
 ],
 "metadata": {
  "kernelspec": {
   "display_name": "Python 3",
   "language": "python",
   "name": "python3"
  },
  "language_info": {
   "codemirror_mode": {
    "name": "ipython",
    "version": 2
   },
   "file_extension": ".py",
   "mimetype": "text/x-python",
   "name": "python",
   "nbconvert_exporter": "python",
   "pygments_lexer": "ipython2",
   "version": "2.7.6"
  }
 },
 "nbformat": 4,
 "nbformat_minor": 0
}