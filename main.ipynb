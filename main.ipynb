{
 "cells": [
  {
   "cell_type": "code",
   "execution_count": null,
   "metadata": {
    "collapsed": true
   },
   "outputs": [],
   "source": [
    "import cv2\n",
    "import numpy as np\n",
    "import matplotlib.pyplot as plt"
   ]
  },
  {
   "cell_type": "code",
   "execution_count": null,
   "outputs": [],
   "source": [
    "def cut_to_relevant_time(path:str)->None:\n",
    "    \"\"\"\n",
    "    this function takes raw video file and cuts it to\n",
    "    relevant frames of chess game and writes\n",
    "    :param path:\n",
    "    :return:\n",
    "    \"\"\"\n",
    "    pass\n",
    "\n",
    "def keep_frames_for_analysis(path:str)->None:\n",
    "    \"\"\"\n",
    "    this function takes the video file and keeps images with 81\n",
    "    intersections of lines\n",
    "    :param path:\n",
    "    :return:\n",
    "    \"\"\"\n",
    "    pass\n",
    "\n",
    "def analize_first_frame (image)->dict:\n",
    "    \"\"\"\n",
    "    this function takes a single frame and separates it into squares,\n",
    "    returns a dictionary of pieces by location\n",
    "    :param image:\n",
    "    :return:\n",
    "    \"\"\"\n",
    "    pass\n",
    "\n",
    "def find_81_point(image)->dict:\n",
    "    \"\"\"\n",
    "\n",
    "    :param image:\n",
    "    :return:{'a1':((x,y),(x,y),(x,y),(x,y)),'h8':((x,y),(x,y),(x,y),(x,y))}\n",
    "    \"\"\"\n",
    "    image = cv2.imread(image)\n",
    "    gray_image = cv2.cvtColor(image,cv2.COLOR_BGR2GRAY)\n",
    "    edges = cv2.Canny(gray_image,50,150,apertureSize = 3)\n",
    "\n",
    "    lines = cv2.HoughLines(edges,1,np.pi/180,200)\n",
    "    for rho,theta in lines[0]:\n",
    "        a = np.cos(theta)\n",
    "        b = np.sin(theta)\n",
    "        x0 = a*rho\n",
    "        y0 = b*rho\n",
    "        x1 = int(x0 + 1000*(-b))\n",
    "        y1 = int(y0 + 1000*(a))\n",
    "        x2 = int(x0 - 1000*(-b))\n",
    "        y2 = int(y0 - 1000*(a))\n",
    "\n",
    "        cv2.line(image,(x1,y1),(x2,y2),(0,0,255),2)\n",
    "\n",
    "    plt.imshow(image)\n",
    "\n",
    "def find_top_2_changes(image1,coord1:dict,image2,coord2:dict)->tuple:\n",
    "    \"\"\"\n",
    "    this function returns the bord locations that changed - from result[0]\n",
    "    to result[1]\n",
    "    :param image1:\n",
    "    :param coord1:\n",
    "    :param image2:\n",
    "    :param coord2:\n",
    "    :return:\n",
    "    \"\"\"\n",
    "    pass"
   ],
   "metadata": {
    "collapsed": false,
    "pycharm": {
     "name": "#%%\n"
    }
   }
  }
 ],
 "metadata": {
  "kernelspec": {
   "display_name": "Python 3",
   "language": "python",
   "name": "python3"
  },
  "language_info": {
   "codemirror_mode": {
    "name": "ipython",
    "version": 2
   },
   "file_extension": ".py",
   "mimetype": "text/x-python",
   "name": "python",
   "nbconvert_exporter": "python",
   "pygments_lexer": "ipython2",
   "version": "2.7.6"
  }
 },
 "nbformat": 4,
 "nbformat_minor": 0
}